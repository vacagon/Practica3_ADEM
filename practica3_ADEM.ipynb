{
 "cells": [
  {
   "cell_type": "code",
   "execution_count": 1,
   "metadata": {},
   "outputs": [],
   "source": [
    "import numpy as np\n",
    "import pandas as pd\n",
    "import matplotlib.pyplot as plt\n",
    "import math\n",
    "from scipy.stats import sem"
   ]
  },
  {
   "attachments": {},
   "cell_type": "markdown",
   "metadata": {},
   "source": [
    "N: número de simulaciones\n",
    "n: número de elementos tomados"
   ]
  },
  {
   "cell_type": "code",
   "execution_count": 2,
   "metadata": {},
   "outputs": [],
   "source": [
    "N = 10\n",
    "n = 15"
   ]
  },
  {
   "attachments": {},
   "cell_type": "markdown",
   "metadata": {},
   "source": [
    "**SE IMPORTAN LOS DATOS**"
   ]
  },
  {
   "cell_type": "code",
   "execution_count": 3,
   "metadata": {},
   "outputs": [
    {
     "data": {
      "text/html": [
       "<div>\n",
       "<style scoped>\n",
       "    .dataframe tbody tr th:only-of-type {\n",
       "        vertical-align: middle;\n",
       "    }\n",
       "\n",
       "    .dataframe tbody tr th {\n",
       "        vertical-align: top;\n",
       "    }\n",
       "\n",
       "    .dataframe thead th {\n",
       "        text-align: right;\n",
       "    }\n",
       "</style>\n",
       "<table border=\"1\" class=\"dataframe\">\n",
       "  <thead>\n",
       "    <tr style=\"text-align: right;\">\n",
       "      <th></th>\n",
       "      <th>Simulación 1</th>\n",
       "      <th>Simulación 2</th>\n",
       "      <th>Simulación 3</th>\n",
       "      <th>Simulación 4</th>\n",
       "      <th>Simulación 5</th>\n",
       "      <th>Simulación 6</th>\n",
       "      <th>Simulación 7</th>\n",
       "      <th>Simulación 8</th>\n",
       "      <th>Simulación 9</th>\n",
       "      <th>Simulación 10</th>\n",
       "    </tr>\n",
       "  </thead>\n",
       "  <tbody>\n",
       "    <tr>\n",
       "      <th>Elemento1</th>\n",
       "      <td>27.9539</td>\n",
       "      <td>28.0900</td>\n",
       "      <td>27.5466</td>\n",
       "      <td>27.6546</td>\n",
       "      <td>27.4002</td>\n",
       "      <td>27.5769</td>\n",
       "      <td>27.3680</td>\n",
       "      <td>27.4796</td>\n",
       "      <td>27.5190</td>\n",
       "      <td>27.4583</td>\n",
       "    </tr>\n",
       "    <tr>\n",
       "      <th>Elemento2</th>\n",
       "      <td>27.1430</td>\n",
       "      <td>27.4229</td>\n",
       "      <td>26.5716</td>\n",
       "      <td>26.6955</td>\n",
       "      <td>26.3902</td>\n",
       "      <td>26.3864</td>\n",
       "      <td>26.4503</td>\n",
       "      <td>26.6502</td>\n",
       "      <td>26.6276</td>\n",
       "      <td>26.3979</td>\n",
       "    </tr>\n",
       "    <tr>\n",
       "      <th>Elemento3</th>\n",
       "      <td>26.5354</td>\n",
       "      <td>26.8458</td>\n",
       "      <td>25.9503</td>\n",
       "      <td>26.0735</td>\n",
       "      <td>25.7696</td>\n",
       "      <td>25.7580</td>\n",
       "      <td>25.8377</td>\n",
       "      <td>26.0474</td>\n",
       "      <td>26.0153</td>\n",
       "      <td>25.7736</td>\n",
       "    </tr>\n",
       "    <tr>\n",
       "      <th>Elemento4</th>\n",
       "      <td>28.9643</td>\n",
       "      <td>29.3139</td>\n",
       "      <td>28.2945</td>\n",
       "      <td>28.4329</td>\n",
       "      <td>28.0887</td>\n",
       "      <td>28.0370</td>\n",
       "      <td>28.1821</td>\n",
       "      <td>28.4270</td>\n",
       "      <td>28.3819</td>\n",
       "      <td>28.0823</td>\n",
       "    </tr>\n",
       "    <tr>\n",
       "      <th>Elemento5</th>\n",
       "      <td>27.7763</td>\n",
       "      <td>28.1381</td>\n",
       "      <td>27.1156</td>\n",
       "      <td>27.2498</td>\n",
       "      <td>26.9156</td>\n",
       "      <td>26.8572</td>\n",
       "      <td>27.0122</td>\n",
       "      <td>27.2568</td>\n",
       "      <td>27.2066</td>\n",
       "      <td>26.9065</td>\n",
       "    </tr>\n",
       "    <tr>\n",
       "      <th>Elemento6</th>\n",
       "      <td>27.1270</td>\n",
       "      <td>27.5213</td>\n",
       "      <td>26.4431</td>\n",
       "      <td>26.5779</td>\n",
       "      <td>26.2403</td>\n",
       "      <td>26.1537</td>\n",
       "      <td>26.3525</td>\n",
       "      <td>26.6118</td>\n",
       "      <td>26.5490</td>\n",
       "      <td>26.2228</td>\n",
       "    </tr>\n",
       "    <tr>\n",
       "      <th>Elemento7</th>\n",
       "      <td>29.3488</td>\n",
       "      <td>29.6680</td>\n",
       "      <td>28.7048</td>\n",
       "      <td>28.8417</td>\n",
       "      <td>28.5028</td>\n",
       "      <td>28.4750</td>\n",
       "      <td>28.5815</td>\n",
       "      <td>28.8114</td>\n",
       "      <td>28.7780</td>\n",
       "      <td>28.5039</td>\n",
       "    </tr>\n",
       "    <tr>\n",
       "      <th>Elemento8</th>\n",
       "      <td>28.1778</td>\n",
       "      <td>28.5869</td>\n",
       "      <td>27.4669</td>\n",
       "      <td>27.6069</td>\n",
       "      <td>27.2565</td>\n",
       "      <td>27.1697</td>\n",
       "      <td>27.3728</td>\n",
       "      <td>27.6425</td>\n",
       "      <td>27.5770</td>\n",
       "      <td>27.2387</td>\n",
       "    </tr>\n",
       "    <tr>\n",
       "      <th>Elemento9</th>\n",
       "      <td>27.1857</td>\n",
       "      <td>27.6181</td>\n",
       "      <td>26.4596</td>\n",
       "      <td>26.5988</td>\n",
       "      <td>26.2482</td>\n",
       "      <td>26.1288</td>\n",
       "      <td>26.3803</td>\n",
       "      <td>26.6615</td>\n",
       "      <td>26.5842</td>\n",
       "      <td>26.2207</td>\n",
       "    </tr>\n",
       "    <tr>\n",
       "      <th>Elemento10</th>\n",
       "      <td>28.7583</td>\n",
       "      <td>29.1275</td>\n",
       "      <td>28.0749</td>\n",
       "      <td>28.2139</td>\n",
       "      <td>27.8678</td>\n",
       "      <td>27.8091</td>\n",
       "      <td>27.9678</td>\n",
       "      <td>28.2207</td>\n",
       "      <td>28.1692</td>\n",
       "      <td>27.8586</td>\n",
       "    </tr>\n",
       "    <tr>\n",
       "      <th>Elemento11</th>\n",
       "      <td>27.6402</td>\n",
       "      <td>28.0455</td>\n",
       "      <td>26.9243</td>\n",
       "      <td>27.0643</td>\n",
       "      <td>26.7118</td>\n",
       "      <td>26.5928</td>\n",
       "      <td>26.8390</td>\n",
       "      <td>27.1128</td>\n",
       "      <td>27.0429</td>\n",
       "      <td>26.6859</td>\n",
       "    </tr>\n",
       "    <tr>\n",
       "      <th>Elemento12</th>\n",
       "      <td>26.9149</td>\n",
       "      <td>27.3225</td>\n",
       "      <td>26.2117</td>\n",
       "      <td>26.3483</td>\n",
       "      <td>26.0044</td>\n",
       "      <td>25.8891</td>\n",
       "      <td>26.1295</td>\n",
       "      <td>26.3995</td>\n",
       "      <td>26.3289</td>\n",
       "      <td>25.9791</td>\n",
       "    </tr>\n",
       "    <tr>\n",
       "      <th>Elemento13</th>\n",
       "      <td>27.5019</td>\n",
       "      <td>27.7541</td>\n",
       "      <td>26.9655</td>\n",
       "      <td>27.0861</td>\n",
       "      <td>26.7923</td>\n",
       "      <td>26.8409</td>\n",
       "      <td>26.8292</td>\n",
       "      <td>27.0098</td>\n",
       "      <td>27.0013</td>\n",
       "      <td>26.8138</td>\n",
       "    </tr>\n",
       "    <tr>\n",
       "      <th>Elemento14</th>\n",
       "      <td>26.6818</td>\n",
       "      <td>27.0098</td>\n",
       "      <td>26.0457</td>\n",
       "      <td>26.1761</td>\n",
       "      <td>25.8493</td>\n",
       "      <td>25.7596</td>\n",
       "      <td>25.9496</td>\n",
       "      <td>26.1846</td>\n",
       "      <td>26.1373</td>\n",
       "      <td>25.8338</td>\n",
       "    </tr>\n",
       "    <tr>\n",
       "      <th>Elemento15</th>\n",
       "      <td>26.2264</td>\n",
       "      <td>26.5553</td>\n",
       "      <td>25.6201</td>\n",
       "      <td>25.7449</td>\n",
       "      <td>25.4352</td>\n",
       "      <td>25.3968</td>\n",
       "      <td>25.5171</td>\n",
       "      <td>25.7389</td>\n",
       "      <td>25.6976</td>\n",
       "      <td>25.4316</td>\n",
       "    </tr>\n",
       "  </tbody>\n",
       "</table>\n",
       "</div>"
      ],
      "text/plain": [
       "            Simulación 1  Simulación 2  Simulación 3  Simulación 4  \\\n",
       "Elemento1        27.9539       28.0900       27.5466       27.6546   \n",
       "Elemento2        27.1430       27.4229       26.5716       26.6955   \n",
       "Elemento3        26.5354       26.8458       25.9503       26.0735   \n",
       "Elemento4        28.9643       29.3139       28.2945       28.4329   \n",
       "Elemento5        27.7763       28.1381       27.1156       27.2498   \n",
       "Elemento6        27.1270       27.5213       26.4431       26.5779   \n",
       "Elemento7        29.3488       29.6680       28.7048       28.8417   \n",
       "Elemento8        28.1778       28.5869       27.4669       27.6069   \n",
       "Elemento9        27.1857       27.6181       26.4596       26.5988   \n",
       "Elemento10       28.7583       29.1275       28.0749       28.2139   \n",
       "Elemento11       27.6402       28.0455       26.9243       27.0643   \n",
       "Elemento12       26.9149       27.3225       26.2117       26.3483   \n",
       "Elemento13       27.5019       27.7541       26.9655       27.0861   \n",
       "Elemento14       26.6818       27.0098       26.0457       26.1761   \n",
       "Elemento15       26.2264       26.5553       25.6201       25.7449   \n",
       "\n",
       "            Simulación 5  Simulación 6  Simulación 7  Simulación 8  \\\n",
       "Elemento1        27.4002       27.5769       27.3680       27.4796   \n",
       "Elemento2        26.3902       26.3864       26.4503       26.6502   \n",
       "Elemento3        25.7696       25.7580       25.8377       26.0474   \n",
       "Elemento4        28.0887       28.0370       28.1821       28.4270   \n",
       "Elemento5        26.9156       26.8572       27.0122       27.2568   \n",
       "Elemento6        26.2403       26.1537       26.3525       26.6118   \n",
       "Elemento7        28.5028       28.4750       28.5815       28.8114   \n",
       "Elemento8        27.2565       27.1697       27.3728       27.6425   \n",
       "Elemento9        26.2482       26.1288       26.3803       26.6615   \n",
       "Elemento10       27.8678       27.8091       27.9678       28.2207   \n",
       "Elemento11       26.7118       26.5928       26.8390       27.1128   \n",
       "Elemento12       26.0044       25.8891       26.1295       26.3995   \n",
       "Elemento13       26.7923       26.8409       26.8292       27.0098   \n",
       "Elemento14       25.8493       25.7596       25.9496       26.1846   \n",
       "Elemento15       25.4352       25.3968       25.5171       25.7389   \n",
       "\n",
       "            Simulación 9  Simulación 10  \n",
       "Elemento1        27.5190        27.4583  \n",
       "Elemento2        26.6276        26.3979  \n",
       "Elemento3        26.0153        25.7736  \n",
       "Elemento4        28.3819        28.0823  \n",
       "Elemento5        27.2066        26.9065  \n",
       "Elemento6        26.5490        26.2228  \n",
       "Elemento7        28.7780        28.5039  \n",
       "Elemento8        27.5770        27.2387  \n",
       "Elemento9        26.5842        26.2207  \n",
       "Elemento10       28.1692        27.8586  \n",
       "Elemento11       27.0429        26.6859  \n",
       "Elemento12       26.3289        25.9791  \n",
       "Elemento13       27.0013        26.8138  \n",
       "Elemento14       26.1373        25.8338  \n",
       "Elemento15       25.6976        25.4316  "
      ]
     },
     "metadata": {},
     "output_type": "display_data"
    }
   ],
   "source": [
    "mef_df = pd.read_csv(\"Data.csv\", delimiter=';', decimal=',')\n",
    "display(mef_df)"
   ]
  },
  {
   "cell_type": "code",
   "execution_count": 4,
   "metadata": {},
   "outputs": [
    {
     "data": {
      "text/html": [
       "<div>\n",
       "<style scoped>\n",
       "    .dataframe tbody tr th:only-of-type {\n",
       "        vertical-align: middle;\n",
       "    }\n",
       "\n",
       "    .dataframe tbody tr th {\n",
       "        vertical-align: top;\n",
       "    }\n",
       "\n",
       "    .dataframe thead th {\n",
       "        text-align: right;\n",
       "    }\n",
       "</style>\n",
       "<table border=\"1\" class=\"dataframe\">\n",
       "  <thead>\n",
       "    <tr style=\"text-align: right;\">\n",
       "      <th></th>\n",
       "      <th>Ensayo</th>\n",
       "      <th>Deformacion</th>\n",
       "    </tr>\n",
       "  </thead>\n",
       "  <tbody>\n",
       "    <tr>\n",
       "      <th>0</th>\n",
       "      <td>1</td>\n",
       "      <td>160</td>\n",
       "    </tr>\n",
       "    <tr>\n",
       "      <th>1</th>\n",
       "      <td>2</td>\n",
       "      <td>159</td>\n",
       "    </tr>\n",
       "    <tr>\n",
       "      <th>2</th>\n",
       "      <td>3</td>\n",
       "      <td>160</td>\n",
       "    </tr>\n",
       "  </tbody>\n",
       "</table>\n",
       "</div>"
      ],
      "text/plain": [
       "   Ensayo  Deformacion\n",
       "0       1          160\n",
       "1       2          159\n",
       "2       3          160"
      ]
     },
     "metadata": {},
     "output_type": "display_data"
    }
   ],
   "source": [
    "case_df = pd.read_csv(\"Case.csv\", delimiter=';', decimal=',', usecols=[0,1])\n",
    "display(case_df)"
   ]
  },
  {
   "attachments": {},
   "cell_type": "markdown",
   "metadata": {},
   "source": [
    "**MÉTODO DE ELEMENTOS FINITOS**"
   ]
  },
  {
   "attachments": {},
   "cell_type": "markdown",
   "metadata": {},
   "source": [
    "Se calcula la tensión media de cada simulación y la desviación estándar experimental de la media de los 8 elementos tomados para cada simulación (Ecuación 4)"
   ]
  },
  {
   "cell_type": "code",
   "execution_count": 5,
   "metadata": {},
   "outputs": [
    {
     "data": {
      "text/html": [
       "<div>\n",
       "<style scoped>\n",
       "    .dataframe tbody tr th:only-of-type {\n",
       "        vertical-align: middle;\n",
       "    }\n",
       "\n",
       "    .dataframe tbody tr th {\n",
       "        vertical-align: top;\n",
       "    }\n",
       "\n",
       "    .dataframe thead th {\n",
       "        text-align: right;\n",
       "    }\n",
       "</style>\n",
       "<table border=\"1\" class=\"dataframe\">\n",
       "  <thead>\n",
       "    <tr style=\"text-align: right;\">\n",
       "      <th></th>\n",
       "      <th>Media</th>\n",
       "      <th>Desviacion estándar</th>\n",
       "    </tr>\n",
       "  </thead>\n",
       "  <tbody>\n",
       "    <tr>\n",
       "      <th>0</th>\n",
       "      <td>27.934647</td>\n",
       "      <td>0.236208</td>\n",
       "    </tr>\n",
       "    <tr>\n",
       "      <th>1</th>\n",
       "      <td>26.959680</td>\n",
       "      <td>0.234764</td>\n",
       "    </tr>\n",
       "    <tr>\n",
       "      <th>2</th>\n",
       "      <td>27.091013</td>\n",
       "      <td>0.235374</td>\n",
       "    </tr>\n",
       "    <tr>\n",
       "      <th>3</th>\n",
       "      <td>26.764860</td>\n",
       "      <td>0.234203</td>\n",
       "    </tr>\n",
       "    <tr>\n",
       "      <th>4</th>\n",
       "      <td>26.722067</td>\n",
       "      <td>0.239616</td>\n",
       "    </tr>\n",
       "    <tr>\n",
       "      <th>5</th>\n",
       "      <td>26.851307</td>\n",
       "      <td>0.232478</td>\n",
       "    </tr>\n",
       "    <tr>\n",
       "      <th>6</th>\n",
       "      <td>27.083633</td>\n",
       "      <td>0.232330</td>\n",
       "    </tr>\n",
       "    <tr>\n",
       "      <th>7</th>\n",
       "      <td>27.041053</td>\n",
       "      <td>0.233350</td>\n",
       "    </tr>\n",
       "    <tr>\n",
       "      <th>8</th>\n",
       "      <td>26.760500</td>\n",
       "      <td>0.235625</td>\n",
       "    </tr>\n",
       "  </tbody>\n",
       "</table>\n",
       "</div>"
      ],
      "text/plain": [
       "       Media  Desviacion estándar\n",
       "0  27.934647             0.236208\n",
       "1  26.959680             0.234764\n",
       "2  27.091013             0.235374\n",
       "3  26.764860             0.234203\n",
       "4  26.722067             0.239616\n",
       "5  26.851307             0.232478\n",
       "6  27.083633             0.232330\n",
       "7  27.041053             0.233350\n",
       "8  26.760500             0.235625"
      ]
     },
     "metadata": {},
     "output_type": "display_data"
    }
   ],
   "source": [
    "media_simulacion = []\n",
    "std_simulacion = []\n",
    "simulaciones = mef_df.columns[1:]\n",
    "for simulacion in simulaciones:\n",
    "    media_simulacion.append(mef_df[simulacion].mean())\n",
    "    std_simulacion.append(sem(mef_df[simulacion])) \n",
    "mef_df_2 = pd.DataFrame(media_simulacion, columns = ['Media'])\n",
    "mef_df_2['Desviacion estándar'] = std_simulacion\n",
    "display(mef_df_2)"
   ]
  },
  {
   "attachments": {},
   "cell_type": "markdown",
   "metadata": {},
   "source": [
    "Se calcula la media (Ecuación 2) y la desviación experimental de la media (Ecuación 3) de las 10 simulaciones efectuadas"
   ]
  },
  {
   "cell_type": "code",
   "execution_count": 6,
   "metadata": {},
   "outputs": [
    {
     "data": {
      "text/plain": [
       "27.023195555555557"
      ]
     },
     "execution_count": 6,
     "metadata": {},
     "output_type": "execute_result"
    }
   ],
   "source": [
    "Tension_mef = mef_df_2['Media'].astype('float').mean()\n",
    "s_mef = sem(mef_df_2['Media'])\n",
    "Tension_mef"
   ]
  },
  {
   "attachments": {},
   "cell_type": "markdown",
   "metadata": {},
   "source": [
    "Se calcula la incertidumbre combinada de la tensión"
   ]
  },
  {
   "cell_type": "code",
   "execution_count": 7,
   "metadata": {},
   "outputs": [
    {
     "data": {
      "text/plain": [
       "0.25480452226653666"
      ]
     },
     "execution_count": 7,
     "metadata": {},
     "output_type": "execute_result"
    }
   ],
   "source": [
    "u_c = math.sqrt((sum(pow(mef_df_2['Desviacion estándar'].astype('float'),2)) / N) + pow(s_mef,2))\n",
    "u_c"
   ]
  },
  {
   "attachments": {},
   "cell_type": "markdown",
   "metadata": {},
   "source": [
    "Se calcula el factor de cobertura de una distribución tipo t"
   ]
  },
  {
   "cell_type": "code",
   "execution_count": 8,
   "metadata": {},
   "outputs": [
    {
     "data": {
      "text/plain": [
       "17.32468740701567"
      ]
     },
     "execution_count": 8,
     "metadata": {},
     "output_type": "execute_result"
    }
   ],
   "source": [
    "V_eff = pow(u_c,4) / ((pow(mef_df_2['Desviacion estándar'].astype('float').mean(),4) / (n-1))+(pow(s_mef,4) / (N-1)))\n",
    "V_eff"
   ]
  },
  {
   "attachments": {},
   "cell_type": "markdown",
   "metadata": {},
   "source": [
    "Interpolamos linealmente entre los 2 valores más cercanos para un intervalo de confianza del 95% (20 - 2.09; 25 - 2.06)"
   ]
  },
  {
   "cell_type": "code",
   "execution_count": 9,
   "metadata": {},
   "outputs": [
    {
     "data": {
      "text/plain": [
       "2.073948124442094"
      ]
     },
     "execution_count": 9,
     "metadata": {},
     "output_type": "execute_result"
    }
   ],
   "source": [
    "k_t = (2.06-2.09)/(20-25)*(V_eff - 20) + 2.09\n",
    "k_t"
   ]
  },
  {
   "attachments": {},
   "cell_type": "markdown",
   "metadata": {},
   "source": [
    "La incertidumbre expandida para un nivel de confinza del 95% para la tensión obtenida del modelo de elementos finitos es:"
   ]
  },
  {
   "cell_type": "code",
   "execution_count": 10,
   "metadata": {},
   "outputs": [
    {
     "data": {
      "text/plain": [
       "0.5284513610540476"
      ]
     },
     "execution_count": 10,
     "metadata": {},
     "output_type": "execute_result"
    }
   ],
   "source": [
    "U_mef = k_t * u_c\n",
    "U_mef"
   ]
  },
  {
   "attachments": {},
   "cell_type": "markdown",
   "metadata": {},
   "source": [
    "**VALIDACIÓN EXPERIMENTAL** (Monte Carlo)"
   ]
  },
  {
   "attachments": {},
   "cell_type": "markdown",
   "metadata": {},
   "source": [
    "Se elige el número de reiteraciones de Monte Carlo"
   ]
  },
  {
   "cell_type": "code",
   "execution_count": 11,
   "metadata": {},
   "outputs": [],
   "source": [
    "M = 100000\n",
    "#Coeficiente de expansión térmica del material de ensayo\n",
    "alpha_B = 0.0000116\n",
    "#Coeficiente de expansión térmica del material utilizado por el fabricante\n",
    "alpha_A = 0.0000118"
   ]
  },
  {
   "cell_type": "code",
   "execution_count": 12,
   "metadata": {},
   "outputs": [],
   "source": [
    "incertidumbres_df = pd.DataFrame()\n",
    "ensayos_df = pd.DataFrame()\n",
    "tolerancia_def = 1\n",
    "i = 1\n",
    "for ensayo in case_df['Deformacion']:\n",
    "    ensayos_df['Ensayo ' + str(i)] = np.random.uniform(low=ensayo-tolerancia_def, high=ensayo+tolerancia_def, size=M)\n",
    "    i = i+1"
   ]
  },
  {
   "cell_type": "code",
   "execution_count": 13,
   "metadata": {},
   "outputs": [],
   "source": [
    "K = 2.07\n",
    "tolerancia_K = 0.01\n",
    "incertidumbres_df['Factor de galga'] = np.random.uniform(low=K-tolerancia_K, high=K+tolerancia_K, size=M)"
   ]
  },
  {
   "cell_type": "code",
   "execution_count": 14,
   "metadata": {},
   "outputs": [],
   "source": [
    "K_t = 0.001\n",
    "tolerancia_Kt = 0.001\n",
    "incertidumbres_df['Factor de sensibilidad transversal'] = np.random.uniform(low=K_t-tolerancia_Kt, high=K_t+tolerancia_Kt, size=M)"
   ]
  },
  {
   "cell_type": "code",
   "execution_count": 15,
   "metadata": {},
   "outputs": [],
   "source": [
    "alpha_g = 0.01\n",
    "tolerancia_alpha = 0.00005\n",
    "incertidumbres_df['Coeficiente dilatacion termico'] = np.random.uniform(low=alpha_g-tolerancia_alpha, high=alpha_g+tolerancia_alpha, size=M)"
   ]
  },
  {
   "cell_type": "code",
   "execution_count": 16,
   "metadata": {},
   "outputs": [],
   "source": [
    "poisson = 0.285\n",
    "tolerancia_poisson = 0.01\n",
    "incertidumbres_df['Coeficiente Poisson'] = np.random.uniform(low=poisson-tolerancia_poisson, high=poisson+tolerancia_poisson, size=M)"
   ]
  },
  {
   "cell_type": "code",
   "execution_count": 17,
   "metadata": {},
   "outputs": [],
   "source": [
    "Temp_ensayo = 18 #ºC\n",
    "tolerancia_temp = 1\n",
    "incertidumbres_df['Temperatura de ensayo'] = np.random.uniform(low=Temp_ensayo-tolerancia_temp, high=Temp_ensayo+tolerancia_temp, size=M)"
   ]
  },
  {
   "cell_type": "code",
   "execution_count": 18,
   "metadata": {},
   "outputs": [],
   "source": [
    "Temp_calib = 20 #ºC\n",
    "incertidumbres_df['Temperatura de calibracion'] = np.random.uniform(low=Temp_calib-tolerancia_temp, high=Temp_calib+tolerancia_temp, size=M)"
   ]
  },
  {
   "cell_type": "code",
   "execution_count": 19,
   "metadata": {},
   "outputs": [],
   "source": [
    "F = 14.86 #N\n",
    "incertidumbre_F = 0.00829\n",
    "incertidumbres_df['Carga aplicada'] = np.random.normal(loc=F, scale=incertidumbre_F, size=M)"
   ]
  },
  {
   "cell_type": "code",
   "execution_count": 20,
   "metadata": {},
   "outputs": [],
   "source": [
    "epsilon = -31.8 + 2.77*Temp_ensayo - 0.0655*pow(Temp_ensayo,2) + 0.000328*pow(Temp_ensayo,3) - 0.000000326*pow(Temp_ensayo,4)\n",
    "tolerancia_def_ap = 1.7\n",
    "incertidumbres_df['Deformación aparente'] = np.random.uniform(low=epsilon-tolerancia_def_ap, high=epsilon+tolerancia_def_ap, size=M)"
   ]
  },
  {
   "cell_type": "code",
   "execution_count": 21,
   "metadata": {},
   "outputs": [],
   "source": [
    "G = 211 #GPa\n",
    "incertidumbre_G = 2.11\n",
    "incertidumbres_df['Modulo Young'] = np.random.normal(loc=G, scale=incertidumbre_G, size=M)"
   ]
  },
  {
   "cell_type": "code",
   "execution_count": 22,
   "metadata": {},
   "outputs": [],
   "source": [
    "cita_montaje = 0.02 #rads\n",
    "tolerancia_cita_montaje = 0.000873\n",
    "incertidumbres_df['Angulo montaje'] = np.random.uniform(low=cita_montaje-tolerancia_cita_montaje, high=cita_montaje+tolerancia_cita_montaje, size=M)"
   ]
  },
  {
   "attachments": {},
   "cell_type": "markdown",
   "metadata": {},
   "source": [
    "ENSAYO 1"
   ]
  },
  {
   "cell_type": "code",
   "execution_count": 23,
   "metadata": {},
   "outputs": [
    {
     "data": {
      "text/html": [
       "<div>\n",
       "<style scoped>\n",
       "    .dataframe tbody tr th:only-of-type {\n",
       "        vertical-align: middle;\n",
       "    }\n",
       "\n",
       "    .dataframe tbody tr th {\n",
       "        vertical-align: top;\n",
       "    }\n",
       "\n",
       "    .dataframe thead th {\n",
       "        text-align: right;\n",
       "    }\n",
       "</style>\n",
       "<table border=\"1\" class=\"dataframe\">\n",
       "  <thead>\n",
       "    <tr style=\"text-align: right;\">\n",
       "      <th></th>\n",
       "      <th>Deformacion</th>\n",
       "      <th>Error No Linealidad</th>\n",
       "      <th>Error Temperatura</th>\n",
       "      <th>Error Alineamiento</th>\n",
       "      <th>Error Sensibilidad Transversal</th>\n",
       "      <th>Deformacion corregida</th>\n",
       "      <th>Tension</th>\n",
       "    </tr>\n",
       "  </thead>\n",
       "  <tbody>\n",
       "    <tr>\n",
       "      <th>0</th>\n",
       "      <td>160.366604</td>\n",
       "      <td>-0.026508</td>\n",
       "      <td>-0.559461</td>\n",
       "      <td>-0.020656</td>\n",
       "      <td>3.412849e-06</td>\n",
       "      <td>160.973225</td>\n",
       "      <td>34.022699</td>\n",
       "    </tr>\n",
       "    <tr>\n",
       "      <th>1</th>\n",
       "      <td>160.901161</td>\n",
       "      <td>-0.026712</td>\n",
       "      <td>-0.085877</td>\n",
       "      <td>-0.020375</td>\n",
       "      <td>8.680750e-06</td>\n",
       "      <td>161.034116</td>\n",
       "      <td>34.065603</td>\n",
       "    </tr>\n",
       "    <tr>\n",
       "      <th>2</th>\n",
       "      <td>159.774314</td>\n",
       "      <td>-0.026332</td>\n",
       "      <td>-2.877710</td>\n",
       "      <td>-0.021313</td>\n",
       "      <td>-1.835940e-06</td>\n",
       "      <td>162.699671</td>\n",
       "      <td>34.332366</td>\n",
       "    </tr>\n",
       "    <tr>\n",
       "      <th>3</th>\n",
       "      <td>160.838816</td>\n",
       "      <td>-0.026835</td>\n",
       "      <td>0.246713</td>\n",
       "      <td>-0.021365</td>\n",
       "      <td>-4.153081e-06</td>\n",
       "      <td>160.640309</td>\n",
       "      <td>33.797840</td>\n",
       "    </tr>\n",
       "    <tr>\n",
       "      <th>4</th>\n",
       "      <td>160.428047</td>\n",
       "      <td>-0.026552</td>\n",
       "      <td>-1.329875</td>\n",
       "      <td>-0.021526</td>\n",
       "      <td>2.798664e-07</td>\n",
       "      <td>161.806000</td>\n",
       "      <td>33.789920</td>\n",
       "    </tr>\n",
       "  </tbody>\n",
       "</table>\n",
       "</div>"
      ],
      "text/plain": [
       "   Deformacion  Error No Linealidad  Error Temperatura  Error Alineamiento  \\\n",
       "0   160.366604            -0.026508          -0.559461           -0.020656   \n",
       "1   160.901161            -0.026712          -0.085877           -0.020375   \n",
       "2   159.774314            -0.026332          -2.877710           -0.021313   \n",
       "3   160.838816            -0.026835           0.246713           -0.021365   \n",
       "4   160.428047            -0.026552          -1.329875           -0.021526   \n",
       "\n",
       "   Error Sensibilidad Transversal  Deformacion corregida    Tension  \n",
       "0                    3.412849e-06             160.973225  34.022699  \n",
       "1                    8.680750e-06             161.034116  34.065603  \n",
       "2                   -1.835940e-06             162.699671  34.332366  \n",
       "3                   -4.153081e-06             160.640309  33.797840  \n",
       "4                    2.798664e-07             161.806000  33.789920  "
      ]
     },
     "execution_count": 23,
     "metadata": {},
     "output_type": "execute_result"
    }
   ],
   "source": [
    "error_no_linealidad = []\n",
    "error_temperatura = []\n",
    "error_alineamiento = []\n",
    "error_sensibilidad_transversal = []\n",
    "deformacion_corregida = []\n",
    "tension = []\n",
    "i = 0\n",
    "for deformacion in np.array(ensayos_df['Ensayo 1']):\n",
    "    error_no_linealidad.append(deformacion - (2 * deformacion)/(2 - (0.000001 * deformacion * np.array(incertidumbres_df['Factor de galga'])[i])))\n",
    "    error_temperatura.append(((2)/(np.array(incertidumbres_df['Factor de galga'])[i] * (1 + np.array(incertidumbres_df['Coeficiente dilatacion termico'])[i] * (np.array(incertidumbres_df['Temperatura de ensayo'])[i] - np.array(incertidumbres_df['Temperatura de calibracion'])[i])))) * (np.array(incertidumbres_df['Deformación aparente'])[i] + (alpha_B - alpha_A)*(np.array(incertidumbres_df['Temperatura de ensayo'])[i] - np.array(incertidumbres_df['Temperatura de calibracion'])[i])))\n",
    "    error_alineamiento.append(deformacion*(1 - (2)/((1 - np.array(incertidumbres_df['Coeficiente Poisson'])[i]) + (1 + np.array(incertidumbres_df['Coeficiente Poisson'])[i]) * math.cos(np.array(incertidumbres_df['Angulo montaje'])[i]))))\n",
    "    epsilon_coeff = ((1 - math.cos(2 * np.array(incertidumbres_df['Angulo montaje'])[i])) - np.array(incertidumbres_df['Coeficiente Poisson'])[i] * (1 + math.cos(2 * np.array(incertidumbres_df['Angulo montaje'])[i]))) / ((1 + math.cos(2 * np.array(incertidumbres_df['Angulo montaje'])[i])) - np.array(incertidumbres_df['Coeficiente Poisson'])[i] * (1 - math.cos(2 * np.array(incertidumbres_df['Angulo montaje'])[i])))\n",
    "    error_sensibilidad_transversal.append((np.array(incertidumbres_df['Factor de sensibilidad transversal'])[i] * (epsilon_coeff + poisson)) / (1 - poisson*np.array(incertidumbres_df['Factor de sensibilidad transversal'])[i]))\n",
    "    error = error_no_linealidad[i] + error_temperatura[i] + error_alineamiento[i] + error_sensibilidad_transversal[i]\n",
    "    deformacion_corregida.append(deformacion - error)\n",
    "    tension.append(deformacion_corregida[i]* 0.000001 * np.array(incertidumbres_df['Modulo Young'])[i] * 1000)\n",
    "    i = i + 1\n",
    "ensayo1_df = pd.DataFrame()\n",
    "ensayo1_df['Deformacion'] = ensayos_df['Ensayo 1']\n",
    "ensayo1_df['Error No Linealidad'] = error_no_linealidad\n",
    "ensayo1_df['Error Temperatura'] = error_temperatura\n",
    "ensayo1_df['Error Alineamiento'] = error_alineamiento\n",
    "ensayo1_df['Error Sensibilidad Transversal'] = error_sensibilidad_transversal\n",
    "ensayo1_df['Deformacion corregida'] = deformacion_corregida\n",
    "ensayo1_df['Tension'] = tension\n",
    "ensayo1_df.head()"
   ]
  },
  {
   "attachments": {},
   "cell_type": "markdown",
   "metadata": {},
   "source": [
    "ENSAYO 2"
   ]
  },
  {
   "cell_type": "code",
   "execution_count": 24,
   "metadata": {},
   "outputs": [
    {
     "data": {
      "text/html": [
       "<div>\n",
       "<style scoped>\n",
       "    .dataframe tbody tr th:only-of-type {\n",
       "        vertical-align: middle;\n",
       "    }\n",
       "\n",
       "    .dataframe tbody tr th {\n",
       "        vertical-align: top;\n",
       "    }\n",
       "\n",
       "    .dataframe thead th {\n",
       "        text-align: right;\n",
       "    }\n",
       "</style>\n",
       "<table border=\"1\" class=\"dataframe\">\n",
       "  <thead>\n",
       "    <tr style=\"text-align: right;\">\n",
       "      <th></th>\n",
       "      <th>Deformacion</th>\n",
       "      <th>Error No Linealidad</th>\n",
       "      <th>Error Temperatura</th>\n",
       "      <th>Error Alineamiento</th>\n",
       "      <th>Error Sensibilidad Transversal</th>\n",
       "      <th>Deformacion corregida</th>\n",
       "      <th>Tension</th>\n",
       "    </tr>\n",
       "  </thead>\n",
       "  <tbody>\n",
       "    <tr>\n",
       "      <th>0</th>\n",
       "      <td>160.366604</td>\n",
       "      <td>-0.025798</td>\n",
       "      <td>-0.559461</td>\n",
       "      <td>-0.020377</td>\n",
       "      <td>3.412849e-06</td>\n",
       "      <td>158.809727</td>\n",
       "      <td>33.565430</td>\n",
       "    </tr>\n",
       "    <tr>\n",
       "      <th>1</th>\n",
       "      <td>160.901161</td>\n",
       "      <td>-0.026125</td>\n",
       "      <td>-0.085877</td>\n",
       "      <td>-0.020150</td>\n",
       "      <td>8.680750e-06</td>\n",
       "      <td>159.256523</td>\n",
       "      <td>33.689566</td>\n",
       "    </tr>\n",
       "    <tr>\n",
       "      <th>2</th>\n",
       "      <td>159.774314</td>\n",
       "      <td>-0.026155</td>\n",
       "      <td>-2.877710</td>\n",
       "      <td>-0.021241</td>\n",
       "      <td>-1.835940e-06</td>\n",
       "      <td>162.159916</td>\n",
       "      <td>34.218469</td>\n",
       "    </tr>\n",
       "    <tr>\n",
       "      <th>3</th>\n",
       "      <td>160.838816</td>\n",
       "      <td>-0.026274</td>\n",
       "      <td>0.246713</td>\n",
       "      <td>-0.021141</td>\n",
       "      <td>-4.153081e-06</td>\n",
       "      <td>158.948367</td>\n",
       "      <td>33.441865</td>\n",
       "    </tr>\n",
       "    <tr>\n",
       "      <th>4</th>\n",
       "      <td>160.428047</td>\n",
       "      <td>-0.026345</td>\n",
       "      <td>-1.329875</td>\n",
       "      <td>-0.021442</td>\n",
       "      <td>2.798664e-07</td>\n",
       "      <td>161.179603</td>\n",
       "      <td>33.659110</td>\n",
       "    </tr>\n",
       "  </tbody>\n",
       "</table>\n",
       "</div>"
      ],
      "text/plain": [
       "   Deformacion  Error No Linealidad  Error Temperatura  Error Alineamiento  \\\n",
       "0   160.366604            -0.025798          -0.559461           -0.020377   \n",
       "1   160.901161            -0.026125          -0.085877           -0.020150   \n",
       "2   159.774314            -0.026155          -2.877710           -0.021241   \n",
       "3   160.838816            -0.026274           0.246713           -0.021141   \n",
       "4   160.428047            -0.026345          -1.329875           -0.021442   \n",
       "\n",
       "   Error Sensibilidad Transversal  Deformacion corregida    Tension  \n",
       "0                    3.412849e-06             158.809727  33.565430  \n",
       "1                    8.680750e-06             159.256523  33.689566  \n",
       "2                   -1.835940e-06             162.159916  34.218469  \n",
       "3                   -4.153081e-06             158.948367  33.441865  \n",
       "4                    2.798664e-07             161.179603  33.659110  "
      ]
     },
     "execution_count": 24,
     "metadata": {},
     "output_type": "execute_result"
    }
   ],
   "source": [
    "error_no_linealidad = []\n",
    "error_temperatura = []\n",
    "error_alineamiento = []\n",
    "error_sensibilidad_transversal = []\n",
    "deformacion_corregida = []\n",
    "tension = []\n",
    "i = 0\n",
    "for deformacion in np.array(ensayos_df['Ensayo 2']):\n",
    "    error_no_linealidad.append(deformacion - (2 * deformacion)/(2 - (0.000001 * deformacion * np.array(incertidumbres_df['Factor de galga'])[i])))\n",
    "    error_temperatura.append(((2)/(np.array(incertidumbres_df['Factor de galga'])[i] * (1 + np.array(incertidumbres_df['Coeficiente dilatacion termico'])[i] * (np.array(incertidumbres_df['Temperatura de ensayo'])[i] - np.array(incertidumbres_df['Temperatura de calibracion'])[i])))) * (np.array(incertidumbres_df['Deformación aparente'])[i] + (alpha_B - alpha_A)*(np.array(incertidumbres_df['Temperatura de ensayo'])[i] - np.array(incertidumbres_df['Temperatura de calibracion'])[i])))\n",
    "    error_alineamiento.append(deformacion*(1 - (2)/((1 - np.array(incertidumbres_df['Coeficiente Poisson'])[i]) + (1 + np.array(incertidumbres_df['Coeficiente Poisson'])[i]) * math.cos(np.array(incertidumbres_df['Angulo montaje'])[i]))))\n",
    "    epsilon_coeff = ((1 - math.cos(2 * np.array(incertidumbres_df['Angulo montaje'])[i])) - np.array(incertidumbres_df['Coeficiente Poisson'])[i] * (1 + math.cos(2 * np.array(incertidumbres_df['Angulo montaje'])[i]))) / ((1 + math.cos(2 * np.array(incertidumbres_df['Angulo montaje'])[i])) - np.array(incertidumbres_df['Coeficiente Poisson'])[i] * (1 - math.cos(2 * np.array(incertidumbres_df['Angulo montaje'])[i])))\n",
    "    error_sensibilidad_transversal.append((np.array(incertidumbres_df['Factor de sensibilidad transversal'])[i] * (epsilon_coeff + poisson)) / (1 - poisson*np.array(incertidumbres_df['Factor de sensibilidad transversal'])[i]))\n",
    "    error = error_no_linealidad[i] + error_temperatura[i] + error_alineamiento[i] + error_sensibilidad_transversal[i]\n",
    "    deformacion_corregida.append(deformacion - error)\n",
    "    tension.append(deformacion_corregida[i]* 0.000001 * np.array(incertidumbres_df['Modulo Young'])[i] * 1000)\n",
    "    i = i + 1\n",
    "ensayo2_df = pd.DataFrame()\n",
    "ensayo2_df['Deformacion'] = ensayos_df['Ensayo 1']\n",
    "ensayo2_df['Error No Linealidad'] = error_no_linealidad\n",
    "ensayo2_df['Error Temperatura'] = error_temperatura\n",
    "ensayo2_df['Error Alineamiento'] = error_alineamiento\n",
    "ensayo2_df['Error Sensibilidad Transversal'] = error_sensibilidad_transversal\n",
    "ensayo2_df['Deformacion corregida'] = deformacion_corregida\n",
    "ensayo2_df['Tension'] = tension\n",
    "ensayo2_df.head()"
   ]
  },
  {
   "cell_type": "code",
   "execution_count": 25,
   "metadata": {},
   "outputs": [
    {
     "data": {
      "text/html": [
       "<div>\n",
       "<style scoped>\n",
       "    .dataframe tbody tr th:only-of-type {\n",
       "        vertical-align: middle;\n",
       "    }\n",
       "\n",
       "    .dataframe tbody tr th {\n",
       "        vertical-align: top;\n",
       "    }\n",
       "\n",
       "    .dataframe thead th {\n",
       "        text-align: right;\n",
       "    }\n",
       "</style>\n",
       "<table border=\"1\" class=\"dataframe\">\n",
       "  <thead>\n",
       "    <tr style=\"text-align: right;\">\n",
       "      <th></th>\n",
       "      <th>Deformacion</th>\n",
       "      <th>Error No Linealidad</th>\n",
       "      <th>Error Temperatura</th>\n",
       "      <th>Error Alineamiento</th>\n",
       "      <th>Error Sensibilidad Transversal</th>\n",
       "      <th>Deformacion corregida</th>\n",
       "      <th>Tension</th>\n",
       "    </tr>\n",
       "  </thead>\n",
       "  <tbody>\n",
       "    <tr>\n",
       "      <th>0</th>\n",
       "      <td>160.366604</td>\n",
       "      <td>-0.026552</td>\n",
       "      <td>-0.559461</td>\n",
       "      <td>-0.020673</td>\n",
       "      <td>3.412849e-06</td>\n",
       "      <td>161.105854</td>\n",
       "      <td>34.050730</td>\n",
       "    </tr>\n",
       "    <tr>\n",
       "      <th>1</th>\n",
       "      <td>160.901161</td>\n",
       "      <td>-0.026586</td>\n",
       "      <td>-0.085877</td>\n",
       "      <td>-0.020327</td>\n",
       "      <td>8.680750e-06</td>\n",
       "      <td>160.655414</td>\n",
       "      <td>33.985491</td>\n",
       "    </tr>\n",
       "    <tr>\n",
       "      <th>2</th>\n",
       "      <td>159.774314</td>\n",
       "      <td>-0.026647</td>\n",
       "      <td>-2.877710</td>\n",
       "      <td>-0.021439</td>\n",
       "      <td>-1.835940e-06</td>\n",
       "      <td>163.650504</td>\n",
       "      <td>34.533008</td>\n",
       "    </tr>\n",
       "    <tr>\n",
       "      <th>3</th>\n",
       "      <td>160.838816</td>\n",
       "      <td>-0.026854</td>\n",
       "      <td>0.246713</td>\n",
       "      <td>-0.021373</td>\n",
       "      <td>-4.153081e-06</td>\n",
       "      <td>160.696891</td>\n",
       "      <td>33.809745</td>\n",
       "    </tr>\n",
       "    <tr>\n",
       "      <th>4</th>\n",
       "      <td>160.428047</td>\n",
       "      <td>-0.026362</td>\n",
       "      <td>-1.329875</td>\n",
       "      <td>-0.021449</td>\n",
       "      <td>2.798664e-07</td>\n",
       "      <td>161.229819</td>\n",
       "      <td>33.669596</td>\n",
       "    </tr>\n",
       "  </tbody>\n",
       "</table>\n",
       "</div>"
      ],
      "text/plain": [
       "   Deformacion  Error No Linealidad  Error Temperatura  Error Alineamiento  \\\n",
       "0   160.366604            -0.026552          -0.559461           -0.020673   \n",
       "1   160.901161            -0.026586          -0.085877           -0.020327   \n",
       "2   159.774314            -0.026647          -2.877710           -0.021439   \n",
       "3   160.838816            -0.026854           0.246713           -0.021373   \n",
       "4   160.428047            -0.026362          -1.329875           -0.021449   \n",
       "\n",
       "   Error Sensibilidad Transversal  Deformacion corregida    Tension  \n",
       "0                    3.412849e-06             161.105854  34.050730  \n",
       "1                    8.680750e-06             160.655414  33.985491  \n",
       "2                   -1.835940e-06             163.650504  34.533008  \n",
       "3                   -4.153081e-06             160.696891  33.809745  \n",
       "4                    2.798664e-07             161.229819  33.669596  "
      ]
     },
     "execution_count": 25,
     "metadata": {},
     "output_type": "execute_result"
    }
   ],
   "source": [
    "error_no_linealidad = []\n",
    "error_temperatura = []\n",
    "error_alineamiento = []\n",
    "error_sensibilidad_transversal = []\n",
    "deformacion_corregida = []\n",
    "tension = []\n",
    "i = 0\n",
    "for deformacion in np.array(ensayos_df['Ensayo 3']):\n",
    "    error_no_linealidad.append(deformacion - (2 * deformacion)/(2 - (0.000001 * deformacion * np.array(incertidumbres_df['Factor de galga'])[i])))\n",
    "    error_temperatura.append(((2)/(np.array(incertidumbres_df['Factor de galga'])[i] * (1 + np.array(incertidumbres_df['Coeficiente dilatacion termico'])[i] * (np.array(incertidumbres_df['Temperatura de ensayo'])[i] - np.array(incertidumbres_df['Temperatura de calibracion'])[i])))) * (np.array(incertidumbres_df['Deformación aparente'])[i] + (alpha_B - alpha_A)*(np.array(incertidumbres_df['Temperatura de ensayo'])[i] - np.array(incertidumbres_df['Temperatura de calibracion'])[i])))\n",
    "    error_alineamiento.append(deformacion*(1 - (2)/((1 - np.array(incertidumbres_df['Coeficiente Poisson'])[i]) + (1 + np.array(incertidumbres_df['Coeficiente Poisson'])[i]) * math.cos(np.array(incertidumbres_df['Angulo montaje'])[i]))))\n",
    "    epsilon_coeff = ((1 - math.cos(2 * np.array(incertidumbres_df['Angulo montaje'])[i])) - np.array(incertidumbres_df['Coeficiente Poisson'])[i] * (1 + math.cos(2 * np.array(incertidumbres_df['Angulo montaje'])[i]))) / ((1 + math.cos(2 * np.array(incertidumbres_df['Angulo montaje'])[i])) - np.array(incertidumbres_df['Coeficiente Poisson'])[i] * (1 - math.cos(2 * np.array(incertidumbres_df['Angulo montaje'])[i])))\n",
    "    error_sensibilidad_transversal.append((np.array(incertidumbres_df['Factor de sensibilidad transversal'])[i] * (epsilon_coeff + poisson)) / (1 - poisson*np.array(incertidumbres_df['Factor de sensibilidad transversal'])[i]))\n",
    "    error = error_no_linealidad[i] + error_temperatura[i] + error_alineamiento[i] + error_sensibilidad_transversal[i]\n",
    "    deformacion_corregida.append(deformacion - error)\n",
    "    tension.append(deformacion_corregida[i]* 0.000001 * np.array(incertidumbres_df['Modulo Young'])[i] * 1000)\n",
    "    i = i + 1\n",
    "ensayo3_df = pd.DataFrame()\n",
    "ensayo3_df['Deformacion'] = ensayos_df['Ensayo 1']\n",
    "ensayo3_df['Error No Linealidad'] = error_no_linealidad\n",
    "ensayo3_df['Error Temperatura'] = error_temperatura\n",
    "ensayo3_df['Error Alineamiento'] = error_alineamiento\n",
    "ensayo3_df['Error Sensibilidad Transversal'] = error_sensibilidad_transversal\n",
    "ensayo3_df['Deformacion corregida'] = deformacion_corregida\n",
    "ensayo3_df['Tension'] = tension\n",
    "ensayo3_df.head()"
   ]
  },
  {
   "cell_type": "code",
   "execution_count": 26,
   "metadata": {},
   "outputs": [],
   "source": [
    "tension_df = pd.DataFrame()\n",
    "tension_df['Ensayo 1'] = np.array(ensayo1_df['Tension'])\n",
    "tension_df['Ensayo 2'] = np.array(ensayo2_df['Tension'])\n",
    "tension_df['Ensayo 3'] = np.array(ensayo2_df['Tension'])\n",
    "tensiones = []\n",
    "i = 0\n",
    "for tension in tension_df['Ensayo 1']:\n",
    "    tensiones.append((tension + np.array(tension_df['Ensayo 2'])[i] + np.array(tension_df['Ensayo 3'])[i])/3)\n",
    "tension_df['Tension media'] = tensiones"
   ]
  },
  {
   "attachments": {},
   "cell_type": "markdown",
   "metadata": {},
   "source": [
    "TENSION MEDIA EXPERIMENTAL"
   ]
  },
  {
   "cell_type": "code",
   "execution_count": 32,
   "metadata": {},
   "outputs": [
    {
     "data": {
      "text/plain": [
       "33.72274841780463"
      ]
     },
     "execution_count": 32,
     "metadata": {},
     "output_type": "execute_result"
    }
   ],
   "source": [
    "Tension_MMC = tension_df['Tension media'].astype('float').mean()\n",
    "s_MMC = tension_df['Tension media'].std()\n",
    "Tension_MMC"
   ]
  },
  {
   "attachments": {},
   "cell_type": "markdown",
   "metadata": {},
   "source": [
    "INCERTIDUMBRE EXPANDIDA EXPERIMENTAL"
   ]
  },
  {
   "cell_type": "code",
   "execution_count": 31,
   "metadata": {},
   "outputs": [
    {
     "data": {
      "text/plain": [
       "0.13815991849182888"
      ]
     },
     "execution_count": 31,
     "metadata": {},
     "output_type": "execute_result"
    }
   ],
   "source": [
    "s_MMC"
   ]
  },
  {
   "cell_type": "code",
   "execution_count": 28,
   "metadata": {},
   "outputs": [
    {
     "data": {
      "text/plain": [
       "(0.0, 5000.0)"
      ]
     },
     "execution_count": 28,
     "metadata": {},
     "output_type": "execute_result"
    },
    {
     "data": {
      "image/png": "[encoded data removed]",
      "text/plain": [
       "<Figure size 640x480 with 1 Axes>"
      ]
     },
     "metadata": {},
     "output_type": "display_data"
    }
   ],
   "source": [
    "plt.hist(tensiones, bins=100, histtype='step')\n",
    "plt.hist(np.random.normal(loc=Tension_mef, scale=U_mef, size=M), bins=100, histtype='step')\n",
    "plt.xlim(25,35)\n",
    "plt.ylim(0, 5000)"
   ]
  },
  {
   "attachments": {},
   "cell_type": "markdown",
   "metadata": {},
   "source": [
    "Comprobar correlación del Método de Elementos Finitos con los resultados experimentales de tensión. Si E_N < 1 significa que el MEF repodruce el resultado experimental"
   ]
  },
  {
   "cell_type": "code",
   "execution_count": 29,
   "metadata": {},
   "outputs": [
    {
     "data": {
      "text/plain": [
       "13.134543242707464"
      ]
     },
     "execution_count": 29,
     "metadata": {},
     "output_type": "execute_result"
    }
   ],
   "source": [
    "E_N = abs(Tension_mef - Tension_MMC)/ math.sqrt(pow(U_mef,2) - pow(s_MMC,2))\n",
    "E_N"
   ]
  },
  {
   "attachments": {},
   "cell_type": "markdown",
   "metadata": {},
   "source": [
    "El MEF no repodruce fielmente el resultado experimental"
   ]
  }
 ],
 "metadata": {
  "kernelspec": {
   "display_name": "DataForML",
   "language": "python",
   "name": "python3"
  },
  "language_info": {
   "codemirror_mode": {
    "name": "ipython",
    "version": 3
   },
   "file_extension": ".py",
   "mimetype": "text/x-python",
   "name": "python",
   "nbconvert_exporter": "python",
   "pygments_lexer": "ipython3",
   "version": "3.9.15"
  },
  "orig_nbformat": 4,
  "vscode": {
   "interpreter": {
    "hash": "4b800301b3f3f5ed7d086f079539e74b97a0a493b894cbcaaf3da877efa6e97e"
   }
  }
 },
 "nbformat": 4,
 "nbformat_minor": 2
}
